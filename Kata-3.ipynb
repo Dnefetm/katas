{
 "cells": [
  {
   "cell_type": "markdown",
   "metadata": {},
   "source": [
    "Ejercicio del asteroide"
   ]
  },
  {
   "cell_type": "code",
   "execution_count": 16,
   "metadata": {},
   "outputs": [
    {
     "name": "stdout",
     "output_type": "stream",
     "text": [
      "¡Advertencia! El asteroide se acerca a la tierra demasiado rápido\n"
     ]
    }
   ],
   "source": [
    "velocidad_asteroide = 49\n",
    "if velocidad_asteroide > 25:\n",
    "    print(\"¡Advertencia! El asteroide se acerca a la tierra demasiado rápido\")\n"
   ]
  },
  {
   "cell_type": "markdown",
   "metadata": {},
   "source": [
    "Declaración del asteroide con if, elif and else"
   ]
  },
  {
   "cell_type": "code",
   "execution_count": 7,
   "metadata": {},
   "outputs": [
    {
     "name": "stdout",
     "output_type": "stream",
     "text": [
      "El asteroide viaja rápido, pero no es visible\n"
     ]
    }
   ],
   "source": [
    "velocidad_asteroide=19\n",
    "if velocidad_asteroide>=20:\n",
    "    print(\"El asteroide es visible en el cielo\")\n",
    "    if velocidad_asteroide>=25:\n",
    "        print(\"El asteroide representa una amenaza para la tierra\")\n",
    "    else:\n",
    "        print(\"El riesgo para la tierra es bajo\")\n",
    "elif velocidad_asteroide==19:\n",
    "    print(\"El asteroide viaja rápido, pero no es visible\")\n",
    "else:\n",
    "    print(\"Se acerca un asteroide, pero no es visible\")"
   ]
  },
  {
   "cell_type": "markdown",
   "metadata": {},
   "source": [
    "USO DE OPERADORES AND Y OR"
   ]
  },
  {
   "cell_type": "code",
   "execution_count": 22,
   "metadata": {},
   "outputs": [
    {
     "name": "stdout",
     "output_type": "stream",
     "text": [
      "Se acerca un asteroide a la tierra que probablemente sea visible en el cielo, este puede representar cierta amenaza para la tierra\n"
     ]
    }
   ],
   "source": [
    "velocidad_de_asteroide=22\n",
    "medida_mayor_de_asteroide=25\n",
    "\n",
    "if velocidad_de_asteroide >= 25:\n",
    "    print(\"Un asteroide se acerca a la tierra, es visible y representa un riesgo alto para la tierra\")\n",
    "    if medida_mayor_de_asteroide>=25 and medida_mayor_de_asteroide<=1000:\n",
    "        print(\"Se acerca una extinción masiva, debes prepararte para sobrevivir en las tinieblas\")\n",
    "    else:\n",
    "        print(\"Debes estar al pendiente de las medidas de evacuación\")\n",
    "elif velocidad_de_asteroide>19 or medida_mayor_de_asteroide>=25:\n",
    "    print(\"Se acerca un asteroide a la tierra que probablemente sea visible en el cielo, este puede representar cierta amenaza para la tierra\")\n",
    "else:\n",
    "    print(\"Se acerca un asteroide a la tierra, aunque éste no representa riesgo alguno\")"
   ]
  },
  {
   "cell_type": "markdown",
   "metadata": {},
   "source": [
    "Escribir declaración con if"
   ]
  },
  {
   "cell_type": "code",
   "execution_count": 7,
   "metadata": {},
   "outputs": [
    {
     "name": "stdout",
     "output_type": "stream",
     "text": [
      "Programar es divertido\n"
     ]
    }
   ],
   "source": [
    "a=\"Programar es divertido\"\n",
    "if type(a)==str:\n",
    "    print(a)\n"
   ]
  },
  {
   "cell_type": "markdown",
   "metadata": {},
   "source": [
    "Escribir declaración con if, elif y else"
   ]
  },
  {
   "cell_type": "code",
   "execution_count": 11,
   "metadata": {},
   "outputs": [
    {
     "name": "stdout",
     "output_type": "stream",
     "text": [
      "Programar es divertido\n",
      "El valor de pi=3.14159\n"
     ]
    }
   ],
   "source": [
    "a=\"Programar es divertido\"\n",
    "if type(a)==str:\n",
    "    print(a)\n",
    "    if a==\"Programar es divertido\":\n",
    "        print(\"El valor de pi=3.14159\")\n",
    "    else:\n",
    "        print(\"2+2=4\")      \n",
    "elif type(a)==int:\n",
    "    print(\"Programar es tardado\")\n",
    "else:\n",
    "    print(\"No es tan divertido\")\n",
    "    "
   ]
  },
  {
   "cell_type": "markdown",
   "metadata": {},
   "source": []
  }
 ],
 "metadata": {
  "interpreter": {
   "hash": "d4ed76a5c33ef4a2844d0adaf087c32f16b04a520ad361ee69f07e17f96d8929"
  },
  "kernelspec": {
   "display_name": "Python 3.10.2 64-bit (windows store)",
   "language": "python",
   "name": "python3"
  },
  "language_info": {
   "codemirror_mode": {
    "name": "ipython",
    "version": 3
   },
   "file_extension": ".py",
   "mimetype": "text/x-python",
   "name": "python",
   "nbconvert_exporter": "python",
   "pygments_lexer": "ipython3",
   "version": "3.10.2"
  },
  "orig_nbformat": 4
 },
 "nbformat": 4,
 "nbformat_minor": 2
}
