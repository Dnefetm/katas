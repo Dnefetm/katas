{
 "cells": [
  {
   "cell_type": "markdown",
   "metadata": {},
   "source": [
    "Ejercicio 1: Crear listas de python"
   ]
  },
  {
   "cell_type": "markdown",
   "metadata": {},
   "source": [
    "Crear lista y contar sus elementos"
   ]
  },
  {
   "cell_type": "code",
   "execution_count": 20,
   "metadata": {},
   "outputs": [
    {
     "name": "stdout",
     "output_type": "stream",
     "text": [
      "La lista de planetas incluye 8 planetas\n"
     ]
    }
   ],
   "source": [
    "planets=[\"Mercurio\", \"Venus\", \"Tierra\", \"Marte\", \"Júpiter\", \"Saturno\", \"Urano\", \"Neptuno\"]\n",
    "Longitud_lista=len(planets)\n",
    "print(f\"La lista de planetas incluye {Longitud_lista} planetas\")"
   ]
  },
  {
   "cell_type": "markdown",
   "metadata": {},
   "source": [
    "Agregar elemento a lista de planetas, contar elementos"
   ]
  },
  {
   "cell_type": "code",
   "execution_count": 9,
   "metadata": {},
   "outputs": [
    {
     "name": "stdout",
     "output_type": "stream",
     "text": [
      "Hay 9 planetas en nuestra lista\n"
     ]
    }
   ],
   "source": [
    "planets.append(\"Plutón\")\n",
    "print(f\"Hay {len(planets)} planetas en nuestra lista\")"
   ]
  },
  {
   "cell_type": "markdown",
   "metadata": {},
   "source": [
    "Mostrar el último planeta"
   ]
  },
  {
   "cell_type": "code",
   "execution_count": 10,
   "metadata": {},
   "outputs": [
    {
     "name": "stdout",
     "output_type": "stream",
     "text": [
      "El último planeta de nuestra lista es Plutón\n"
     ]
    }
   ],
   "source": [
    "print(f\"El último planeta de nuestra lista es {planets[-1]}\")"
   ]
  },
  {
   "cell_type": "markdown",
   "metadata": {},
   "source": [
    "EJERCICIO 2: TRABAJANDO CON DATOS DE LISTA\n",
    "Usar slices para recuperar parte de una lista"
   ]
  },
  {
   "cell_type": "code",
   "execution_count": 13,
   "metadata": {},
   "outputs": [
    {
     "name": "stdout",
     "output_type": "stream",
     "text": [
      "Los planetas del sistema solar son los siguientes: \n",
      " ['Mercurio', 'Venus', 'Tierra', 'Marte', 'Júpiter', 'Saturno', 'Urano', 'Neptuno', 'Plutón']\n",
      "El planeta que seleccionaste tiene la posición número 2 dentro del sistema solar\n"
     ]
    }
   ],
   "source": [
    "print(f\"Los planetas del sistema solar son los siguientes: \\n {planets}\")\n",
    "planeta_de_prueba=input(\"Escribe uno de los planetas de la lista usando mayúscula inicial\")\n",
    "indice_planeta=planets.index(planeta_de_prueba)\n",
    "print(f\"El planeta que seleccionaste tiene la posición número {indice_planeta+1} dentro del sistema solar\")\n"
   ]
  },
  {
   "cell_type": "markdown",
   "metadata": {},
   "source": [
    "Planetas más cercanos al sol"
   ]
  },
  {
   "cell_type": "code",
   "execution_count": 17,
   "metadata": {},
   "outputs": [
    {
     "name": "stdout",
     "output_type": "stream",
     "text": [
      "Antes que Venus, el(los) planeta(s) más cercano(s) al sol es(son) el(los) siguiente(s):\n",
      " ['Mercurio']\n"
     ]
    }
   ],
   "source": [
    "planetas_más_cercanos_al_sol=planets[0:indice_planeta]\n",
    "print(f\"Antes que {planeta_de_prueba}, el(los) planeta(s) más cercano(s) al sol es(son) el(los) siguiente(s):\\n {planetas_más_cercanos_al_sol}\")"
   ]
  },
  {
   "cell_type": "markdown",
   "metadata": {},
   "source": [
    "Planetas más lejanos al sol"
   ]
  },
  {
   "cell_type": "code",
   "execution_count": 19,
   "metadata": {},
   "outputs": [
    {
     "name": "stdout",
     "output_type": "stream",
     "text": [
      "Después que Venus, el(los) planeta(s) más lejano(s) al sol es(son) el(los) siguiente(s):\n",
      " ['Tierra', 'Marte', 'Júpiter', 'Saturno', 'Urano', 'Neptuno', 'Plutón']\n"
     ]
    }
   ],
   "source": [
    "planetas_más_lejanos_al_sol=planets[indice_planeta+1:]\n",
    "print(f\"Después que {planeta_de_prueba}, el(los) planeta(s) más lejano(s) al sol es(son) el(los) siguiente(s):\\n {planetas_más_lejanos_al_sol}\")"
   ]
  }
 ],
 "metadata": {
  "interpreter": {
   "hash": "d4ed76a5c33ef4a2844d0adaf087c32f16b04a520ad361ee69f07e17f96d8929"
  },
  "kernelspec": {
   "display_name": "Python 3.10.2 64-bit (windows store)",
   "language": "python",
   "name": "python3"
  },
  "language_info": {
   "codemirror_mode": {
    "name": "ipython",
    "version": 3
   },
   "file_extension": ".py",
   "mimetype": "text/x-python",
   "name": "python",
   "nbconvert_exporter": "python",
   "pygments_lexer": "ipython3",
   "version": "3.10.2"
  },
  "orig_nbformat": 4
 },
 "nbformat": 4,
 "nbformat_minor": 2
}
