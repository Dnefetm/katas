{
 "cells": [
  {
   "cell_type": "markdown",
   "metadata": {},
   "source": [
    "EJERCICIO 1: UTILIZAR OPERADORES ARITMÉTICOS"
   ]
  },
  {
   "cell_type": "markdown",
   "metadata": {},
   "source": [
    "CALCULA LA DISTANCIA ENTRE 2 PLANETAS"
   ]
  },
  {
   "cell_type": "code",
   "execution_count": 10,
   "metadata": {},
   "outputs": [
    {
     "name": "stdout",
     "output_type": "stream",
     "text": [
      "La distancia entre planetas es 628949330 km\n",
      "La distancia entre planetas es 390894549.4095712 millas\n"
     ]
    }
   ],
   "source": [
    "Tierra = 149597870\n",
    "Júpiter = 778547200\n",
    "\n",
    "Distancia = abs(Tierra - Júpiter)\n",
    "Distenmillas=Distancia/1.609\n",
    "print(\"La distancia entre planetas es \"+ str(Distancia) + \" km\" )\n",
    "print(\"La distancia entre planetas es \" + str(Distenmillas) + \" millas\")\n"
   ]
  },
  {
   "cell_type": "markdown",
   "metadata": {},
   "source": [
    "EJERCICIO 2: Convierte cadenas en números y usa valores absolutos"
   ]
  },
  {
   "cell_type": "code",
   "execution_count": 17,
   "metadata": {},
   "outputs": [
    {
     "name": "stdout",
     "output_type": "stream",
     "text": [
      "La distancia entre los dos planetas es de 14000 km. \n",
      " La distancia entre los mismos planetas es de 8695.652173913042 millas\n"
     ]
    }
   ],
   "source": [
    "Distancia_entre_planetas = abs(int(input(\"Ingresa distancia de planeta 1 al sol\"))-int(input(\"Ingresa distancia de planeta 2 al sol\")))\n",
    "print(\"La distancia entre los dos planetas es de \" + str(Distancia_entre_planetas) +\" km. \\n La distancia entre los mismos planetas es de \"+ str(Distancia_entre_planetas/1.61) +\" millas\" )"
   ]
  }
 ],
 "metadata": {
  "interpreter": {
   "hash": "d4ed76a5c33ef4a2844d0adaf087c32f16b04a520ad361ee69f07e17f96d8929"
  },
  "kernelspec": {
   "display_name": "Python 3.10.2 64-bit (windows store)",
   "language": "python",
   "name": "python3"
  },
  "language_info": {
   "codemirror_mode": {
    "name": "ipython",
    "version": 3
   },
   "file_extension": ".py",
   "mimetype": "text/x-python",
   "name": "python",
   "nbconvert_exporter": "python",
   "pygments_lexer": "ipython3",
   "version": "3.10.2"
  },
  "orig_nbformat": 4
 },
 "nbformat": 4,
 "nbformat_minor": 2
}
