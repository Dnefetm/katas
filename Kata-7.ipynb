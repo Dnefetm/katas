{
 "cells": [
  {
   "cell_type": "markdown",
   "metadata": {},
   "source": [
    "EJERCICIO 1: CREAR DICCIONARIOS EN PYTHON\n",
    "Crear y modificar un diccionario del planeta marte"
   ]
  },
  {
   "cell_type": "code",
   "execution_count": 5,
   "metadata": {},
   "outputs": [
    {
     "name": "stdout",
     "output_type": "stream",
     "text": [
      "El planeta se llama Mars\n",
      "El planeta Mars tiene 2 lunas\n"
     ]
    }
   ],
   "source": [
    "planet={\n",
    "    \"name\":\"Mars\",\n",
    "    \"moons\": 2\n",
    "}\n",
    "\n",
    "print(f\"El planeta se llama {planet.get('name')}\")\n",
    "print(f\"El planeta Mars tiene {planet['moons']} lunas\")"
   ]
  },
  {
   "cell_type": "markdown",
   "metadata": {},
   "source": [
    "Actualizar y/o agregar datos al diccionario"
   ]
  },
  {
   "cell_type": "code",
   "execution_count": 10,
   "metadata": {},
   "outputs": [
    {
     "name": "stdout",
     "output_type": "stream",
     "text": [
      "{'name': 'Mars', 'moons': 2, 'circunferencia (km)': {'polar': 6752, 'equatorial': 6792}}\n",
      "La circunferencia polar del planeta rojo es 6752\n"
     ]
    }
   ],
   "source": [
    "planet.update({\"circunferencia (km)\":{\"polar\":6752, \"equatorial\":6792}})\n",
    "print(planet)\n",
    "print(f\"La circunferencia polar del planeta rojo es {planet['circunferencia (km)']['polar']}\")"
   ]
  },
  {
   "cell_type": "markdown",
   "metadata": {},
   "source": [
    "EJERCICIO 2: PROGRAMACIÓN DINÁMICA CON DICCIONARIOS\n",
    "CÁLCULO DE VALORES"
   ]
  },
  {
   "cell_type": "code",
   "execution_count": 15,
   "metadata": {},
   "outputs": [
    {
     "name": "stdout",
     "output_type": "stream",
     "text": [
      "En el sistema solar hay 12 planetas\n",
      "En el sistema solar hay 214 lunas\n",
      "En el sistema solar hay un promedio de 17.833333333333332 lunas por cada planeta\n"
     ]
    }
   ],
   "source": [
    "lunas_de_planetas={\n",
    "    \"mercurio\": 0,\n",
    "    \"venus\":0,\n",
    "    \"tierra\":1,\n",
    "    \"marte\":2,\n",
    "    \"júpiter\":79,\n",
    "    \"saturno\":82,\n",
    "    \"urano\":27,\n",
    "    \"neptuno\":14,\n",
    "    \"plutón\":5,\n",
    "    \"haumea\":2,\n",
    "    \"makemake\":1,\n",
    "    \"eris\":1\n",
    "}\n",
    "suma_de_lunas=0\n",
    "suma_de_planetas=0\n",
    "\n",
    "for llave in lunas_de_planetas.keys():\n",
    "    suma_de_planetas=suma_de_planetas+1\n",
    "\n",
    "\n",
    "for valor in lunas_de_planetas.values():\n",
    "    suma_de_lunas = suma_de_lunas + valor\n",
    "\n",
    "print(f\"En el sistema solar hay {suma_de_planetas} planetas\")\n",
    "print(f\"En el sistema solar hay {suma_de_lunas} lunas\")\n",
    "\n",
    "print(f\"En el sistema solar hay un promedio de {suma_de_lunas/suma_de_planetas} lunas por cada planeta\")"
   ]
  }
 ],
 "metadata": {
  "interpreter": {
   "hash": "d4ed76a5c33ef4a2844d0adaf087c32f16b04a520ad361ee69f07e17f96d8929"
  },
  "kernelspec": {
   "display_name": "Python 3.10.2 64-bit (windows store)",
   "language": "python",
   "name": "python3"
  },
  "language_info": {
   "codemirror_mode": {
    "name": "ipython",
    "version": 3
   },
   "file_extension": ".py",
   "mimetype": "text/x-python",
   "name": "python",
   "nbconvert_exporter": "python",
   "pygments_lexer": "ipython3",
   "version": "3.10.2"
  },
  "orig_nbformat": 4
 },
 "nbformat": 4,
 "nbformat_minor": 2
}
