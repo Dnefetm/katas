{
 "cells": [
  {
   "cell_type": "markdown",
   "metadata": {},
   "source": [
    "EJERCICIO 1: Trabajar con argumentos en funciones"
   ]
  },
  {
   "cell_type": "code",
   "execution_count": 9,
   "metadata": {},
   "outputs": [],
   "source": [
    "def combustible_tanques(tanque1, tanque2, tanque3):\n",
    "    promedio=(tanque1+tanque2+tanque3)/3\n",
    "    return (f\"Informe de combustible en el cohete: \\n El promedio es {promedio}; \\n tanque1: {tanque1}; \\n tanque2: {tanque2}; \\n tanque3: {tanque3}\")\n",
    "\n"
   ]
  },
  {
   "cell_type": "markdown",
   "metadata": {},
   "source": [
    "Llamamos la función"
   ]
  },
  {
   "cell_type": "code",
   "execution_count": 10,
   "metadata": {},
   "outputs": [
    {
     "name": "stdout",
     "output_type": "stream",
     "text": [
      "Informe de combustible en el cohete: \n",
      " El promedio es 54.0; \n",
      " tanque1: 12; \n",
      " tanque2: 50; \n",
      " tanque3: 100\n"
     ]
    }
   ],
   "source": [
    "print(combustible_tanques(12,50,100))"
   ]
  },
  {
   "cell_type": "markdown",
   "metadata": {},
   "source": [
    "Crear función promedio de combustible"
   ]
  },
  {
   "cell_type": "code",
   "execution_count": 12,
   "metadata": {},
   "outputs": [
    {
     "data": {
      "text/plain": [
       "54.0"
      ]
     },
     "execution_count": 12,
     "metadata": {},
     "output_type": "execute_result"
    }
   ],
   "source": [
    "def promedio_combustible(listavalores):\n",
    "    suma=sum(listavalores)\n",
    "    sumandos=len(listavalores)\n",
    "    return suma/sumandos\n",
    "\n",
    "promedio_combustible([12,50,100])"
   ]
  },
  {
   "cell_type": "markdown",
   "metadata": {},
   "source": []
  },
  {
   "cell_type": "markdown",
   "metadata": {},
   "source": [
    "ACTUALIZAR LA FUNCIÓN INICIAL PARA LLAMAR A LA NUEVA FUNCIÓN PROMEDIO"
   ]
  },
  {
   "cell_type": "code",
   "execution_count": 15,
   "metadata": {},
   "outputs": [
    {
     "name": "stdout",
     "output_type": "stream",
     "text": [
      "Informe de combustible en el cohete: \n",
      " El promedio total es: 47.666666666666664; \n",
      " tanque1: 41; \n",
      " tanque2: 11; \n",
      " tanque3: 91\n"
     ]
    }
   ],
   "source": [
    "def combustible_tanques(tanque1, tanque2, tanque3):\n",
    "        return (f\"Informe de combustible en el cohete: \\n El promedio total es: {promedio_combustible(listavalores=[tanque1,tanque2,tanque3])}; \\n tanque1: {tanque1}; \\n tanque2: {tanque2}; \\n tanque3: {tanque3}\")\n",
    "\n",
    "print(combustible_tanques(41,11,91))"
   ]
  },
  {
   "cell_type": "markdown",
   "metadata": {},
   "source": [
    "EJERCICIO 2: TRABAJO CON ARGUMENTOS DE PALABRA CLAVE EN FUNCIONES"
   ]
  },
  {
   "cell_type": "code",
   "execution_count": 18,
   "metadata": {},
   "outputs": [
    {
     "name": "stdout",
     "output_type": "stream",
     "text": [
      "La misión tiene la siguiente información: \n",
      " Hora de lanzamiento: 12:00 horas \n",
      " Tiempo de vuelo: 3 horas horas\n",
      " Destino: Marte \n",
      " Tanque externo: 18 litros\n",
      " Tanque interno: 120 litros\n"
     ]
    }
   ],
   "source": [
    "def informe_de_misión(hora_de_prelanzamiento, tiempo_de_vuelo, destino, tanque_externo, tanque_interno):\n",
    "    return f\"La misión tiene la siguiente información: \\n Hora de lanzamiento: {hora_de_prelanzamiento} horas \\n Tiempo de vuelo: {tiempo_de_vuelo} horas\\n Destino: {destino} \\n Tanque externo: {tanque_externo} litros\\n Tanque interno: {tanque_interno} litros\"\n",
    "\n",
    "print(informe_de_misión(\"12:00\",\"3 horas\", \"Marte\", 18, 120))"
   ]
  },
  {
   "cell_type": "markdown",
   "metadata": {},
   "source": [
    "Reescribir la función para que sea más flexible"
   ]
  },
  {
   "cell_type": "code",
   "execution_count": 33,
   "metadata": {},
   "outputs": [
    {
     "name": "stdout",
     "output_type": "stream",
     "text": [
      "\n",
      "    La misión tiene la siguiente información:\n",
      "    Destino: Saturno\n",
      "    Tiempo total del viaje: 9 horas \n",
      "    Combustible total: 399 litros\n",
      "     \n"
     ]
    }
   ],
   "source": [
    "def informe_de_misión(destino, *horas, **reserva_combustible):\n",
    "    return f\"\"\"\n",
    "    La misión tiene la siguiente información:\n",
    "    Destino: {destino}\n",
    "    Tiempo total del viaje: {sum(horas)} horas \n",
    "    Combustible total: {sum(reserva_combustible.values())} litros\n",
    "     \"\"\"\n",
    "\n",
    "print(informe_de_misión(\"Saturno\", 4, 5, tanque_externo=99, tanque_interno=300))"
   ]
  },
  {
   "cell_type": "markdown",
   "metadata": {},
   "source": [
    "Reescribir función para nombrar a cada tanque\n"
   ]
  },
  {
   "cell_type": "code",
   "execution_count": 41,
   "metadata": {},
   "outputs": [
    {
     "name": "stdout",
     "output_type": "stream",
     "text": [
      "\n",
      "    La misión tiene la siguiente información:\n",
      "    Destino: Saturno\n",
      "    Tiempo total del viaje: 9 horas \n",
      "    Combustible total: 399 litros\n",
      "\n",
      "     tanque_externo : 99 litros\n",
      "tanque_interno : 300 litros\n",
      "\n"
     ]
    }
   ],
   "source": [
    "def informe_de_misión(destino, *horas, **reserva_combustible):\n",
    "    Informe_ejecutivo= f\"\"\"\n",
    "    La misión tiene la siguiente información:\n",
    "    Destino: {destino}\n",
    "    Tiempo total del viaje: {sum(horas)} horas \n",
    "    Combustible total: {sum(reserva_combustible.values())} litros\\n\n",
    "     \"\"\"\n",
    "    for nombre, litros in reserva_combustible.items():\n",
    "        Informe_ejecutivo += f\"{nombre} : {litros} litros\\n\"\n",
    "    return Informe_ejecutivo\n",
    "\n",
    "print(informe_de_misión(\"Saturno\", 4, 5, tanque_externo=99, tanque_interno=300))"
   ]
  }
 ],
 "metadata": {
  "interpreter": {
   "hash": "d4ed76a5c33ef4a2844d0adaf087c32f16b04a520ad361ee69f07e17f96d8929"
  },
  "kernelspec": {
   "display_name": "Python 3.10.2 64-bit (windows store)",
   "language": "python",
   "name": "python3"
  },
  "language_info": {
   "codemirror_mode": {
    "name": "ipython",
    "version": 3
   },
   "file_extension": ".py",
   "mimetype": "text/x-python",
   "name": "python",
   "nbconvert_exporter": "python",
   "pygments_lexer": "ipython3",
   "version": "3.10.2"
  },
  "orig_nbformat": 4
 },
 "nbformat": 4,
 "nbformat_minor": 2
}
