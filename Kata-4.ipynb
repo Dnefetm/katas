{
 "cells": [
  {
   "cell_type": "markdown",
   "metadata": {},
   "source": [
    "Ejercicio 1: Transformar cadenas"
   ]
  },
  {
   "cell_type": "markdown",
   "metadata": {},
   "source": [
    "Separar en oraciones"
   ]
  },
  {
   "cell_type": "code",
   "execution_count": 12,
   "metadata": {},
   "outputs": [
    {
     "name": "stdout",
     "output_type": "stream",
     "text": [
      "['Interesting facts about the Moon', \"The Moon is Earth's only satellite\", 'There are several interesting facts about the Moon and how it affects life here on Earth', '\\nOn average, the Moon moves 4cm away from the Earth every year', 'This yearly drift is not significant enough to cause immediate effects on Earth', 'The highest daylight temperature of the Moon is 127 C.']\n"
     ]
    }
   ],
   "source": [
    "text = \"\"\"Interesting facts about the Moon. The Moon is Earth's only satellite. There are several interesting facts about the Moon and how it affects life here on Earth. \n",
    "On average, the Moon moves 4cm away from the Earth every year. This yearly drift is not significant enough to cause immediate effects on Earth. The highest daylight temperature of the Moon is 127 C.\"\"\"\n",
    "oraciones=text.split(\". \")\n",
    "print(oraciones)"
   ]
  },
  {
   "cell_type": "markdown",
   "metadata": {},
   "source": [
    "Crear lista de pistas"
   ]
  },
  {
   "cell_type": "code",
   "execution_count": 41,
   "metadata": {},
   "outputs": [
    {
     "name": "stdout",
     "output_type": "stream",
     "text": [
      "\n",
      "On average, the Moon moves 4cm away from the Earth every year\n",
      "The highest daylight temperature of the Moon is 127 C.\n"
     ]
    }
   ],
   "source": [
    "pistas=[\"average\", \"distance\", \"temperature\"]\n"
   ]
  },
  {
   "cell_type": "markdown",
   "metadata": {},
   "source": [
    "Buscar pistas en oraciones"
   ]
  },
  {
   "cell_type": "code",
   "execution_count": 50,
   "metadata": {},
   "outputs": [
    {
     "name": "stdout",
     "output_type": "stream",
     "text": [
      "AVERAGE se encuentra en la siguiente oración:\n",
      "\n",
      "On average, the Moon moves 4cm away from the Earth every year\n",
      "\n",
      "TEMPERATURE se encuentra en la siguiente oración:\n",
      "The highest daylight temperature of the Moon is 127 C.\n",
      "\n"
     ]
    }
   ],
   "source": [
    "for oracion in oraciones:\n",
    "    for pista in pistas:\n",
    "        if pista in oracion:\n",
    "            print(pista.upper()+\" se encuentra en la siguiente oración:\"+\"\\n\"+oracion+\"\\n\")\n",
    "    "
   ]
  },
  {
   "cell_type": "markdown",
   "metadata": {},
   "source": [
    "Reemplazar C por Celsius en oración determinada"
   ]
  },
  {
   "cell_type": "code",
   "execution_count": 52,
   "metadata": {},
   "outputs": [
    {
     "name": "stdout",
     "output_type": "stream",
     "text": [
      "The highest daylight temperature of the Moon is 127 Celsius.\n"
     ]
    }
   ],
   "source": [
    "for oracion in oraciones:\n",
    "    for palabra in oracion:\n",
    "        if palabra==\"C\":\n",
    "            print(oracion.replace(\"C\", \"Celsius\"))"
   ]
  },
  {
   "cell_type": "markdown",
   "metadata": {},
   "source": [
    "Ejercicio 2: Formateando cadenas"
   ]
  },
  {
   "cell_type": "markdown",
   "metadata": {},
   "source": [
    "Datos de trabajo"
   ]
  },
  {
   "cell_type": "code",
   "execution_count": null,
   "metadata": {},
   "outputs": [],
   "source": [
    "name=\"Moon\"\n",
    "gravity=0.00162 #in km\n",
    "planet=\"Earth\""
   ]
  },
  {
   "cell_type": "markdown",
   "metadata": {},
   "source": [
    "Plantilla"
   ]
  },
  {
   "cell_type": "code",
   "execution_count": 13,
   "metadata": {},
   "outputs": [],
   "source": [
    "\n",
    "Título=f\"La gravedad afecta a la {planet} y a la {name} más de lo que imaginas\"\n",
    "Datos=f\"El planeta {planet} tiene un satélite natural llamado {name}\\n La gravedad es una medida de fuerza con la que se atraen dos cuerpos en el espacio.\\n El valor de la gravedad es de {1000*gravity} metros/segundos al cuadrado\"\n"
   ]
  },
  {
   "cell_type": "markdown",
   "metadata": {},
   "source": [
    "Unión de título y datos"
   ]
  },
  {
   "cell_type": "code",
   "execution_count": 7,
   "metadata": {},
   "outputs": [
    {
     "name": "stdout",
     "output_type": "stream",
     "text": [
      "La gravedad afecta a la Earth y a la Moon más de lo que imaginas\n",
      "El planeta Earth tiene un satélite natural llamado Moon\n",
      " La gravedad es una medida de fuerza con la que se atraen dos cuerpos en el espacio.\n",
      " El valor de la gravedad es de 1.6199999999999999 metros/segundos al cuadrado\n"
     ]
    }
   ],
   "source": [
    "Texto_completo=Título+'\\n'+Datos\n",
    "print(Texto_completo)"
   ]
  },
  {
   "cell_type": "markdown",
   "metadata": {},
   "source": [
    "Nuevos datos de satélite y planeta"
   ]
  },
  {
   "cell_type": "code",
   "execution_count": 16,
   "metadata": {},
   "outputs": [],
   "source": [
    "planet2 = \"Marte\"\n",
    "gravity2 = 0.00143\n",
    "name2 = \"Ganímedes\"\n",
    "second_gravity = 1000*gravity2"
   ]
  },
  {
   "cell_type": "markdown",
   "metadata": {},
   "source": [
    "Comprobar plantilla"
   ]
  },
  {
   "cell_type": "code",
   "execution_count": 8,
   "metadata": {},
   "outputs": [
    {
     "name": "stdout",
     "output_type": "stream",
     "text": [
      "La gravedad afecta a la Earth y a la Moon más de lo que imaginas\n",
      "El planeta Earth tiene un satélite natural llamado Moon\n",
      " La gravedad es una medida de fuerza con la que se atraen dos cuerpos en el espacio.\n",
      " El valor de la gravedad es de 1.6199999999999999 metros/segundos al cuadrado\n"
     ]
    }
   ],
   "source": [
    "print(Texto_completo)"
   ]
  },
  {
   "cell_type": "markdown",
   "metadata": {},
   "source": [
    "Nueva plantilla"
   ]
  },
  {
   "cell_type": "code",
   "execution_count": 17,
   "metadata": {},
   "outputs": [
    {
     "name": "stdout",
     "output_type": "stream",
     "text": [
      "La gravedad afecta a la Ganímedes y a la Marte más de lo que imaginas\n",
      "El planeta Marte tiene un satélite natural llamado Ganímedes\n",
      " La gravedad es una medida de fuerza con la que se atraen dos cuerpos en el espacio.\n",
      " El valor de la gravedad es de 1.4300000000000002 metros/segundos al cuadrado\n"
     ]
    }
   ],
   "source": [
    "Título_2=\"La gravedad afecta a la {nombre} y a la {planeta} más de lo que imaginas\".format(nombre=name2, planeta=planet2)\n",
    "Datos_2=\"El planeta {planeta} tiene un satélite natural llamado {satelite}\\n La gravedad es una medida de fuerza con la que se atraen dos cuerpos en el espacio.\\n El valor de la gravedad es de {gravedad} metros/segundos al cuadrado\".format(planeta=planet2, satelite=name2, gravedad=second_gravity)\n",
    "Texto_completo2=Título_2+'\\n'+Datos_2\n",
    "print(Texto_completo2)"
   ]
  }
 ],
 "metadata": {
  "interpreter": {
   "hash": "d4ed76a5c33ef4a2844d0adaf087c32f16b04a520ad361ee69f07e17f96d8929"
  },
  "kernelspec": {
   "display_name": "Python 3.10.2 64-bit (windows store)",
   "language": "python",
   "name": "python3"
  },
  "language_info": {
   "codemirror_mode": {
    "name": "ipython",
    "version": 3
   },
   "file_extension": ".py",
   "mimetype": "text/x-python",
   "name": "python",
   "nbconvert_exporter": "python",
   "pygments_lexer": "ipython3",
   "version": "3.10.2"
  },
  "orig_nbformat": 4
 },
 "nbformat": 4,
 "nbformat_minor": 2
}
